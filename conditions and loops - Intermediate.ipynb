{
 "cells": [
  {
   "cell_type": "code",
   "execution_count": 9,
   "id": "ef01bd0f",
   "metadata": {},
   "outputs": [
    {
     "name": "stdout",
     "output_type": "stream",
     "text": [
      "Enter the n value: 9\n",
      "1 2 3 5 8 13 21 "
     ]
    }
   ],
   "source": [
    "#1) Write a Python program that generates a Fibonacci series up to n.\n",
    "n = int(input(\"Enter the n value: \"))\n",
    "a = 0\n",
    "b = 1\n",
    "if n <=0:\n",
    "    print(\"The number is\", a)\n",
    "else:\n",
    "    for x in range(2,n):\n",
    "        c = a + b\n",
    "        print(c, end= \" \")\n",
    "        a = b\n",
    "        b = c"
   ]
  },
  {
   "cell_type": "code",
   "execution_count": 2,
   "id": "c4a93d88",
   "metadata": {},
   "outputs": [
    {
     "name": "stdout",
     "output_type": "stream",
     "text": [
      "Enter your m value: 1\n",
      "Enter your n value: 9\n",
      "Is a prime number\n",
      "2\n",
      "Is a prime number\n",
      "3\n",
      "Not a prime number\n",
      "4\n",
      "Not a prime number\n",
      "5\n",
      "Not a prime number\n",
      "6\n",
      "Not a prime number\n",
      "7\n",
      "Not a prime number\n",
      "8\n",
      "Not a prime number\n",
      "9\n"
     ]
    }
   ],
   "source": [
    "#2) Write a Python program that prints all prime numbers between m and n.\n",
    "m = int(input(\"Enter your m value: \"))\n",
    "n = int(input(\"Enter your n value: \"))\n",
    "flag = False\n",
    "\n",
    "for num in range(m, n+1):\n",
    "    if num > 1:\n",
    "        for i in range(2,num):\n",
    "            if(num%i) == 0:\n",
    "                flag = True\n",
    "                break\n",
    "        if flag:\n",
    "            print(\"Not a prime number\")\n",
    "            print(num)\n",
    "        else:\n",
    "            print(\"Is a prime number\")\n",
    "            print(num)\n"
   ]
  },
  {
   "cell_type": "code",
   "execution_count": 5,
   "id": "1b4a2d8e",
   "metadata": {},
   "outputs": [
    {
     "name": "stdout",
     "output_type": "stream",
     "text": [
      "Enter m value: 11\n",
      "Enter n value: 15\n",
      "12\n"
     ]
    }
   ],
   "source": [
    "#3)Write a Python program to print all numbers between m and n that are divisible by both 3 and 5.\n",
    "m = int(input(\"Enter m value: \"))\n",
    "n = int(input(\"Enter n value: \"))\n",
    "for i in range(m,n):\n",
    "    if (i%3 == 0) or (i%5 == 0):\n",
    "        print(i)"
   ]
  },
  {
   "cell_type": "code",
   "execution_count": 13,
   "id": "f1ed95c2",
   "metadata": {},
   "outputs": [
    {
     "name": "stdout",
     "output_type": "stream",
     "text": [
      "Calculator\n",
      "1. Add\n",
      "2. Subtraction\n",
      "3. Multiplication\n",
      "4. Division\n",
      "Enter the choices from (1-4): 3\n",
      "Enter the value a: 2\n",
      "Enter the value b: 6\n",
      "Multiplication:  12\n"
     ]
    }
   ],
   "source": [
    "#4) Write a Python program to implement a simple calculator using if and for loops.\n",
    "print(\"Calculator\")\n",
    "print(\"1. Add\")\n",
    "print(\"2. Subtraction\")\n",
    "print(\"3. Multiplication\")\n",
    "print(\"4. Division\")\n",
    "\n",
    "ch = int(input(\"Enter the choices from (1-4): \"))\n",
    "\n",
    "if ch == 1:\n",
    "    a = int(input(\"Enter the value a: \"))\n",
    "    b = int(input(\"Enter the value b: \"))\n",
    "    c = a+b\n",
    "    print(\"Add: \", c)\n",
    "elif ch == 2:\n",
    "    a = int(input(\"Enter the value a: \"))\n",
    "    b = int(input(\"Enter the value b: \"))\n",
    "    c = a-b\n",
    "    print(\"Subtract: \", c)\n",
    "elif ch == 3:\n",
    "    a = int(input(\"Enter the value a: \"))\n",
    "    b = int(input(\"Enter the value b: \"))\n",
    "    c = a*b\n",
    "    print(\"Multiplication: \", c)\n",
    "elif ch == 4:\n",
    "    a = int(input(\"Enter the value a: \"))\n",
    "    b = int(input(\"Enter the value b: \"))\n",
    "    c = a/b\n",
    "    print(\"Division: \", c)\n",
    "else:\n",
    "    print(\"Invalid choice\")"
   ]
  },
  {
   "cell_type": "code",
   "execution_count": 29,
   "id": "e037cb4b",
   "metadata": {},
   "outputs": [
    {
     "name": "stdout",
     "output_type": "stream",
     "text": [
      "90\n"
     ]
    }
   ],
   "source": [
    "#5) Write a Python program to find the second largest number in a list.\n",
    "a = [1,90, 100, 75, 28]\n",
    "a.sort()\n",
    "sort_value = a[-2]\n",
    "print(sort_value)"
   ]
  },
  {
   "cell_type": "code",
   "execution_count": 71,
   "id": "dff4c977",
   "metadata": {},
   "outputs": [
    {
     "name": "stdout",
     "output_type": "stream",
     "text": [
      "Count of vowels in the list 4\n"
     ]
    }
   ],
   "source": [
    "#6) Write a Python program to find the number of vowels in a string.\n",
    "a_str = \"condition\"\n",
    "a_lst = ['a', 'e', 'i', 'o', 'u', 'A', 'E', 'I', 'O', 'U']\n",
    "count = 0\n",
    "\n",
    "for character in a_str:\n",
    "    if character in a_lst:\n",
    "        count+=1\n",
    "print(\"Count of vowels in the list\", count)"
   ]
  },
  {
   "cell_type": "code",
   "execution_count": 27,
   "id": "c04d6ed1",
   "metadata": {},
   "outputs": [
    {
     "name": "stdout",
     "output_type": "stream",
     "text": [
      "Yes\n"
     ]
    }
   ],
   "source": [
    "#7) Write a Python program to check if a string is a palindrome.\n",
    "x = \"malayalam\"\n",
    "# x = fever\n",
    "w = x[::-1]\n",
    "if x == w:\n",
    "    print(\"Yes\")\n",
    "else:\n",
    "    print(\"No\")"
   ]
  },
  {
   "cell_type": "code",
   "execution_count": 76,
   "id": "b5f8c77e",
   "metadata": {},
   "outputs": [
    {
     "name": "stdout",
     "output_type": "stream",
     "text": [
      "The common elements in two lists are:\n",
      "Toy\n",
      "off\n"
     ]
    }
   ],
   "source": [
    "#8) Write a Python program that finds the common elements in two lists.\n",
    "a_lst = ['Toy', 2, 'find', 8, 'off']\n",
    "b_lst = ['Temp', 'Toy', 'off', 'number']\n",
    "print(\"The common elements in two lists are:\")\n",
    "for i in a_lst:\n",
    "    for j in b_lst:\n",
    "        if i == j:\n",
    "            print(i)"
   ]
  },
  {
   "cell_type": "code",
   "execution_count": 81,
   "id": "c4a3d474",
   "metadata": {},
   "outputs": [
    {
     "name": "stdout",
     "output_type": "stream",
     "text": [
      "[2, 10, 23, 50, 100]\n"
     ]
    }
   ],
   "source": [
    "#9) Write a Python program that sorts a list of numbers in ascending order.\n",
    "a = [10, 100, 50, 23, 2]\n",
    "a.sort()\n",
    "print(a)"
   ]
  },
  {
   "cell_type": "code",
   "execution_count": 64,
   "id": "4c6bbadb",
   "metadata": {},
   "outputs": [
    {
     "name": "stdout",
     "output_type": "stream",
     "text": [
      "Enter the number: 6\n",
      "The input number is a perfect number\n"
     ]
    }
   ],
   "source": [
    "#10) Write a Python program that checks if a given number is a perfect number or not.\n",
    "input_number = int(input(\"Enter the number: \"))\n",
    "sum_variable = 0\n",
    "for i in range(1, input_number):\n",
    "    if input_number%i == 0:\n",
    "        sum_variable = sum_variable+i\n",
    "if input_number == sum_variable:\n",
    "    print(\"The input number is a perfect number\")\n",
    "else:\n",
    "    print(\"The input number is not a perfect number\")"
   ]
  },
  {
   "cell_type": "code",
   "execution_count": 63,
   "id": "5b06de84",
   "metadata": {},
   "outputs": [
    {
     "name": "stdout",
     "output_type": "stream",
     "text": [
      "The frequencies of a character in a string 'conditions' : \n",
      "{'c': 1, 'o': 2, 'n': 2, 'd': 1, 'i': 2, 't': 1, 's': 1}\n"
     ]
    }
   ],
   "source": [
    "#11) Write a Python program that prints the frequency of each character in a string.\n",
    "input_value = \"conditions\"\n",
    "frequencies = {}\n",
    "\n",
    "for char in input_value:\n",
    "    if char in frequencies:\n",
    "        frequencies[char] += 1\n",
    "    else:\n",
    "        frequencies[char] = 1\n",
    "print(\"The frequencies of a character in a string '{}' : \\n{}\".format(input_value, frequencies))"
   ]
  },
  {
   "cell_type": "code",
   "execution_count": 49,
   "id": "4f56a34d",
   "metadata": {},
   "outputs": [
    {
     "name": "stdout",
     "output_type": "stream",
     "text": [
      "Both are anagrams\n"
     ]
    }
   ],
   "source": [
    "#12) Write a Python program to check if two strings are anagrams of each other.\n",
    "str1 = \"meat\"\n",
    "str2 = \"tEam\"\n",
    "\n",
    "str1_lower = str1.lower()\n",
    "str2_lower = str2.lower()\n",
    "\n",
    "if len(str1_lower) == len(str2_lower):\n",
    "    sorted1 = sorted(str1_lower)\n",
    "    sorted2 = sorted(str2_lower)\n",
    "    if sorted1 == sorted2:\n",
    "        print(\"Both are anagrams\")\n",
    "    else:\n",
    "        print(\"Both are not anagrams\")\n",
    "else:\n",
    "    print(\"Both are not anagrams\")"
   ]
  },
  {
   "cell_type": "code",
   "execution_count": 95,
   "id": "816d0b18",
   "metadata": {},
   "outputs": [
    {
     "name": "stdout",
     "output_type": "stream",
     "text": [
      "Upper case letters are: C\n",
      "Lower case letters are: o\n",
      "Lower case letters are: n\n",
      "Lower case letters are: d\n",
      "Lower case letters are: i\n",
      "Lower case letters are: t\n",
      "Lower case letters are: i\n",
      "Lower case letters are: o\n",
      "Lower case letters are: n\n",
      "Lower case letters are:  \n",
      "Upper case letters are: D\n",
      "Upper case letters are: O\n",
      "Upper case letters are: N\n",
      "Upper case letters are: E\n"
     ]
    }
   ],
   "source": [
    "#13) Write a Python program that accepts a string and prints the number of uppercase letters and lowercase letters.\n",
    "a_str = \"Condition DONE\"\n",
    "a_lower = a_str.lower()\n",
    "a_upper = a_str.upper()\n",
    "for i in a_str:\n",
    "     if i in a_lower:\n",
    "            print(\"Lower case letters are:\", i)\n",
    "     elif i in a_upper:\n",
    "        print(\"Upper case letters are:\", i)"
   ]
  },
  {
   "cell_type": "code",
   "execution_count": 125,
   "id": "8d62e1dd",
   "metadata": {},
   "outputs": [
    {
     "name": "stdout",
     "output_type": "stream",
     "text": [
      "GCD 20\n"
     ]
    }
   ],
   "source": [
    "#14) Write a Python program to find the GCD of two numbers.\n",
    "num1=20\n",
    "num2=40\n",
    "\n",
    "#gcd\n",
    "for i in range(1,max(num1,num2)):\n",
    "    if num1%i == num2%i == 0:\n",
    "        gcd = i\n",
    "print(\"GCD\", gcd)"
   ]
  },
  {
   "cell_type": "code",
   "execution_count": 129,
   "id": "2065fac3",
   "metadata": {},
   "outputs": [
    {
     "name": "stdout",
     "output_type": "stream",
     "text": [
      "500\n"
     ]
    }
   ],
   "source": [
    "#15) Write a Python program to find the LCM of two numbers.\n",
    "num1 = 10\n",
    "num2 = 50\n",
    "\n",
    "for i in range(1, max(num1, num2)):\n",
    "    if num1%i == num2%i == 0:\n",
    "        lcm = num1*num2\n",
    "print(lcm)"
   ]
  },
  {
   "cell_type": "code",
   "execution_count": 71,
   "id": "2b82037c",
   "metadata": {},
   "outputs": [
    {
     "name": "stdout",
     "output_type": "stream",
     "text": [
      "Enter the number: 20\n",
      "The factors of the number are: 20\n",
      "1 2 4 5 10 20 "
     ]
    }
   ],
   "source": [
    "#16) Write a Python program to generate all factors of a number.\n",
    "num = int(input(\"Enter the number: \"))\n",
    "print(\"The factors of the number are:\", num)\n",
    "for i in range(1, num+1):\n",
    "    if num%i == 0:\n",
    "        print(i, end=' ')"
   ]
  },
  {
   "cell_type": "code",
   "execution_count": 98,
   "id": "e64854fc",
   "metadata": {},
   "outputs": [
    {
     "name": "stdout",
     "output_type": "stream",
     "text": [
      "Enter the number: 4\n",
      "\n",
      "Enter the numbers: 100 23 45 1\n",
      "1\n"
     ]
    }
   ],
   "source": [
    "#17) Write a Python program that reads a list of numbers from the user and prints the smallest number in the list.\n",
    "n = int(input(\"Enter the number: \"))\n",
    "a_value = list(map(int,input(\"\\nEnter the numbers: \").strip().split()))[:n]\n",
    "a_value.sort()\n",
    "print(a_value[0])"
   ]
  },
  {
   "cell_type": "code",
   "execution_count": 120,
   "id": "fd404d13",
   "metadata": {},
   "outputs": [
    {
     "name": "stdout",
     "output_type": "stream",
     "text": [
      "3.7416573867739413\n"
     ]
    }
   ],
   "source": [
    "#18) Write a Python program to calculate the standard deviation of numbers in a list.\n",
    "import math\n",
    "\n",
    "numbers = [10,12,14,16,18,20]\n",
    "\n",
    "sum = 0\n",
    "count = 0\n",
    "sum_squares = 0\n",
    "\n",
    "for value in numbers:\n",
    "    sum = sum+value\n",
    "    count = count+1\n",
    "    \n",
    "mean_value = sum/count\n",
    "\n",
    "for value in numbers:\n",
    "    sum_squares = sum_squares+((value-mean_value)**2)\n",
    "    var_value = sum_squares/(count-1)\n",
    "std_value = math.sqrt(var_value)\n",
    "print(std_value)"
   ]
  },
  {
   "cell_type": "code",
   "execution_count": 10,
   "id": "04c5e9c1",
   "metadata": {},
   "outputs": [
    {
     "name": "stdout",
     "output_type": "stream",
     "text": [
      "The multiplication of table 1: 1\n",
      "The multiplication of table 1: 2\n",
      "The multiplication of table 1: 3\n",
      "The multiplication of table 1: 4\n",
      "The multiplication of table 1: 5\n",
      "The multiplication of table 1: 6\n",
      "The multiplication of table 1: 7\n",
      "The multiplication of table 1: 8\n",
      "The multiplication of table 1: 9\n",
      "The multiplication of table 1: 10\n",
      "The multiplication of table 2: 2\n",
      "The multiplication of table 2: 4\n",
      "The multiplication of table 2: 6\n",
      "The multiplication of table 2: 8\n",
      "The multiplication of table 2: 10\n",
      "The multiplication of table 2: 12\n",
      "The multiplication of table 2: 14\n",
      "The multiplication of table 2: 16\n",
      "The multiplication of table 2: 18\n",
      "The multiplication of table 2: 20\n",
      "The multiplication of table 3: 3\n",
      "The multiplication of table 3: 6\n",
      "The multiplication of table 3: 9\n",
      "The multiplication of table 3: 12\n",
      "The multiplication of table 3: 15\n",
      "The multiplication of table 3: 18\n",
      "The multiplication of table 3: 21\n",
      "The multiplication of table 3: 24\n",
      "The multiplication of table 3: 27\n",
      "The multiplication of table 3: 30\n",
      "The multiplication of table 4: 4\n",
      "The multiplication of table 4: 8\n",
      "The multiplication of table 4: 12\n",
      "The multiplication of table 4: 16\n",
      "The multiplication of table 4: 20\n",
      "The multiplication of table 4: 24\n",
      "The multiplication of table 4: 28\n",
      "The multiplication of table 4: 32\n",
      "The multiplication of table 4: 36\n",
      "The multiplication of table 4: 40\n",
      "The multiplication of table 5: 5\n",
      "The multiplication of table 5: 10\n",
      "The multiplication of table 5: 15\n",
      "The multiplication of table 5: 20\n",
      "The multiplication of table 5: 25\n",
      "The multiplication of table 5: 30\n",
      "The multiplication of table 5: 35\n",
      "The multiplication of table 5: 40\n",
      "The multiplication of table 5: 45\n",
      "The multiplication of table 5: 50\n",
      "The multiplication of table 6: 6\n",
      "The multiplication of table 6: 12\n",
      "The multiplication of table 6: 18\n",
      "The multiplication of table 6: 24\n",
      "The multiplication of table 6: 30\n",
      "The multiplication of table 6: 36\n",
      "The multiplication of table 6: 42\n",
      "The multiplication of table 6: 48\n",
      "The multiplication of table 6: 54\n",
      "The multiplication of table 6: 60\n",
      "The multiplication of table 7: 7\n",
      "The multiplication of table 7: 14\n",
      "The multiplication of table 7: 21\n",
      "The multiplication of table 7: 28\n",
      "The multiplication of table 7: 35\n",
      "The multiplication of table 7: 42\n",
      "The multiplication of table 7: 49\n",
      "The multiplication of table 7: 56\n",
      "The multiplication of table 7: 63\n",
      "The multiplication of table 7: 70\n",
      "The multiplication of table 8: 8\n",
      "The multiplication of table 8: 16\n",
      "The multiplication of table 8: 24\n",
      "The multiplication of table 8: 32\n",
      "The multiplication of table 8: 40\n",
      "The multiplication of table 8: 48\n",
      "The multiplication of table 8: 56\n",
      "The multiplication of table 8: 64\n",
      "The multiplication of table 8: 72\n",
      "The multiplication of table 8: 80\n",
      "The multiplication of table 9: 9\n",
      "The multiplication of table 9: 18\n",
      "The multiplication of table 9: 27\n",
      "The multiplication of table 9: 36\n",
      "The multiplication of table 9: 45\n",
      "The multiplication of table 9: 54\n",
      "The multiplication of table 9: 63\n",
      "The multiplication of table 9: 72\n",
      "The multiplication of table 9: 81\n",
      "The multiplication of table 9: 90\n",
      "The multiplication of table 10: 10\n",
      "The multiplication of table 10: 20\n",
      "The multiplication of table 10: 30\n",
      "The multiplication of table 10: 40\n",
      "The multiplication of table 10: 50\n",
      "The multiplication of table 10: 60\n",
      "The multiplication of table 10: 70\n",
      "The multiplication of table 10: 80\n",
      "The multiplication of table 10: 90\n",
      "The multiplication of table 10: 100\n"
     ]
    }
   ],
   "source": [
    "#19) Write a Python program that prints the multiplication table of all numbers from 1 to 10.\n",
    "for i in range(1,10+1):\n",
    "    for j in range(1,10+1):\n",
    "        print(f\"The multiplication of table {i}:\", i*j)"
   ]
  },
  {
   "cell_type": "code",
   "execution_count": 31,
   "id": "8fde3848",
   "metadata": {},
   "outputs": [
    {
     "name": "stdout",
     "output_type": "stream",
     "text": [
      "Enter m value: 11\n",
      "Enter n value: 20\n",
      "The numbers that are not divisible by 3\n",
      "11\n",
      "13\n",
      "14\n",
      "16\n",
      "17\n",
      "19\n"
     ]
    }
   ],
   "source": [
    "#20) Write a Python program that prints all numbers between m and n that are not divisible by 3.\n",
    "m = int(input(\"Enter m value: \"))\n",
    "n = int(input(\"Enter n value: \"))\n",
    "print(\"The numbers that are not divisible by 3\")\n",
    "for i in range(m,n):\n",
    "    if i%3 != 0:\n",
    "        print(i)"
   ]
  }
 ],
 "metadata": {
  "kernelspec": {
   "display_name": "Python 3 (ipykernel)",
   "language": "python",
   "name": "python3"
  },
  "language_info": {
   "codemirror_mode": {
    "name": "ipython",
    "version": 3
   },
   "file_extension": ".py",
   "mimetype": "text/x-python",
   "name": "python",
   "nbconvert_exporter": "python",
   "pygments_lexer": "ipython3",
   "version": "3.9.12"
  }
 },
 "nbformat": 4,
 "nbformat_minor": 5
}
