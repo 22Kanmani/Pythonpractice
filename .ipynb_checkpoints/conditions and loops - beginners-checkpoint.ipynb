{
 "cells": [
  {
   "cell_type": "markdown",
   "id": "ced57ed3",
   "metadata": {},
   "source": [
    "# Beginner"
   ]
  },
  {
   "cell_type": "code",
   "execution_count": 1,
   "id": "83f67ece",
   "metadata": {},
   "outputs": [
    {
     "name": "stdout",
     "output_type": "stream",
     "text": [
      "2\n",
      "4\n"
     ]
    }
   ],
   "source": [
    "#1) Write a Python program to print the numbers 1 to 10 using a for loop\n",
    "a = range(1,5)\n",
    "for i in a:\n",
    "    if i%2 == 0:\n",
    "        print(i)"
   ]
  },
  {
   "cell_type": "code",
   "execution_count": 157,
   "id": "b574cdf3",
   "metadata": {},
   "outputs": [
    {
     "name": "stdout",
     "output_type": "stream",
     "text": [
      "2\n",
      "4\n",
      "6\n",
      "8\n",
      "10\n",
      "12\n",
      "14\n",
      "16\n",
      "18\n",
      "20\n",
      "22\n",
      "24\n",
      "26\n",
      "28\n",
      "30\n",
      "32\n",
      "34\n",
      "36\n",
      "38\n",
      "40\n",
      "42\n",
      "44\n",
      "46\n",
      "48\n",
      "50\n",
      "52\n",
      "54\n",
      "56\n",
      "58\n",
      "60\n",
      "62\n",
      "64\n",
      "66\n",
      "68\n",
      "70\n",
      "72\n",
      "74\n",
      "76\n",
      "78\n",
      "80\n",
      "82\n",
      "84\n",
      "86\n",
      "88\n",
      "90\n",
      "92\n",
      "94\n",
      "96\n",
      "98\n"
     ]
    }
   ],
   "source": [
    "#2) Write a Python program to print all even numbers from 1 to 100 using a for loop.\n",
    "a = range(1, 100)\n",
    "for i in a:\n",
    "    if i%2 == 0:\n",
    "        print(i)"
   ]
  },
  {
   "cell_type": "code",
   "execution_count": 158,
   "id": "c705787e",
   "metadata": {},
   "outputs": [
    {
     "name": "stdout",
     "output_type": "stream",
     "text": [
      "1\n",
      "3\n",
      "5\n",
      "7\n",
      "9\n",
      "11\n",
      "13\n",
      "15\n",
      "17\n",
      "19\n",
      "21\n",
      "23\n",
      "25\n",
      "27\n",
      "29\n",
      "31\n",
      "33\n",
      "35\n",
      "37\n",
      "39\n",
      "41\n",
      "43\n",
      "45\n",
      "47\n",
      "49\n",
      "51\n",
      "53\n",
      "55\n",
      "57\n",
      "59\n",
      "61\n",
      "63\n",
      "65\n",
      "67\n",
      "69\n",
      "71\n",
      "73\n",
      "75\n",
      "77\n",
      "79\n",
      "81\n",
      "83\n",
      "85\n",
      "87\n",
      "89\n",
      "91\n",
      "93\n",
      "95\n",
      "97\n",
      "99\n"
     ]
    }
   ],
   "source": [
    "#3) Write a Python program to print all odd numbers from 1 to 100 using a for loop.\n",
    "a = range(1, 100)\n",
    "for i in a:\n",
    "    if i%2 != 0:\n",
    "        print(i)"
   ]
  },
  {
   "cell_type": "code",
   "execution_count": 45,
   "id": "9c2d469a",
   "metadata": {},
   "outputs": [
    {
     "name": "stdout",
     "output_type": "stream",
     "text": [
      "Enter your value: 3\n",
      "The input value 3 is odd number\n"
     ]
    }
   ],
   "source": [
    "#4) Write a Python program that asks the user to input a number and then prints whether the number is even or odd.\n",
    "value = int(input(\"Enter the value: \"))\n",
    "if int(value)%2 == 0:\n",
    "    print(f\"The input value {value} is even number\")\n",
    "elif int(value)%2 != 0:\n",
    "    print(f\"The input value {value} is odd number\")"
   ]
  },
  {
   "cell_type": "code",
   "execution_count": 48,
   "id": "91247278",
   "metadata": {},
   "outputs": [
    {
     "name": "stdout",
     "output_type": "stream",
     "text": [
      "Enter your n value: 11\n",
      "12\n",
      "13\n",
      "14\n",
      "15\n",
      "16\n",
      "17\n",
      "18\n",
      "19\n",
      "20\n",
      "21\n"
     ]
    }
   ],
   "source": [
    "#5) Write a Python program to print the sum of all numbers from 1 to n (n is user-defined) using a for loop\n",
    "n = int(input(\"Enter the n value: \"))\n",
    "a = range(1, n)\n",
    "for i in a:\n",
    "    print(n+i)"
   ]
  },
  {
   "cell_type": "code",
   "execution_count": 51,
   "id": "0259a0dd",
   "metadata": {},
   "outputs": [
    {
     "name": "stdout",
     "output_type": "stream",
     "text": [
      "Enter your multiplciation input: 3\n",
      "Enter your range value: 11\n",
      "3\n",
      "6\n",
      "9\n",
      "12\n",
      "15\n",
      "18\n",
      "21\n",
      "24\n",
      "27\n",
      "30\n"
     ]
    }
   ],
   "source": [
    "#6) Write a Python program to print the multiplication table of a given number using a for loop.\n",
    "num = int(input(\"Enter the value: \"))\n",
    "n = int(input(\"Enter the range value: \"))\n",
    "for i in range(1,n):\n",
    "    print(num*i)"
   ]
  },
  {
   "cell_type": "code",
   "execution_count": 79,
   "id": "1a339585",
   "metadata": {},
   "outputs": [
    {
     "name": "stdout",
     "output_type": "stream",
     "text": [
      "The factorial is: 5040\n"
     ]
    }
   ],
   "source": [
    "# #7) Write a Python program to find the factorial of a number using a for loop.\n",
    "num = 7\n",
    "fac = 1\n",
    "flag = False\n",
    "\n",
    "if num > 1:\n",
    "    for i in range(1, num+1):\n",
    "        flag = True\n",
    "        fac = fac*i\n",
    "    if flag:\n",
    "        print(\"The factorial is:\", fac)\n",
    "    else:\n",
    "        print(\"There's no factorial\")\n",
    "        \n",
    "        \n",
    "        "
   ]
  },
  {
   "cell_type": "code",
   "execution_count": 60,
   "id": "cf7b44fe",
   "metadata": {},
   "outputs": [
    {
     "name": "stdout",
     "output_type": "stream",
     "text": [
      "Enter your number: 4\n",
      "\n",
      "Enter the numbers: 12 89 76 12\n",
      "89\n"
     ]
    }
   ],
   "source": [
    "#8) Write a Python program that reads a list of numbers from the user and prints the largest number in the list.\n",
    "a = int(input(\"Enter the number: \"))\n",
    "num = list(map(int, input(\"\\nEnter the numbers: \").strip().split()))[:a]\n",
    "largest = num[0]\n",
    "lst = []\n",
    "for i in num:\n",
    "    if i > largest:\n",
    "        largest = i\n",
    "        print(largest)"
   ]
  },
  {
   "cell_type": "code",
   "execution_count": 63,
   "id": "13e2f70e",
   "metadata": {},
   "outputs": [
    {
     "name": "stdout",
     "output_type": "stream",
     "text": [
      "Sum is 315\n"
     ]
    }
   ],
   "source": [
    "#9) Write a Python program to calculate the sum of a list of numbers.\n",
    "a = [19,99,45,67,65,20]\n",
    "Sum = sum(a)\n",
    "print(\"Sum is\", Sum)"
   ]
  },
  {
   "cell_type": "code",
   "execution_count": 10,
   "id": "c07df8dc",
   "metadata": {},
   "outputs": [
    {
     "name": "stdout",
     "output_type": "stream",
     "text": [
      "3\n"
     ]
    }
   ],
   "source": [
    "#10) Write a Python program to count the number of elements in a list.\n",
    "a = [2,2,5,2,6,78,98]\n",
    "x = a.count(2)\n",
    "print(x)"
   ]
  },
  {
   "cell_type": "code",
   "execution_count": 11,
   "id": "5928b5f6",
   "metadata": {},
   "outputs": [
    {
     "name": "stdout",
     "output_type": "stream",
     "text": [
      "Enter your value: 5\n",
      "5 This is a prime number\n"
     ]
    }
   ],
   "source": [
    "#11) Write a Python program that asks the user to input a number and then checks whether the number is prime or not.\n",
    "num = int(input(\"Enter the value: \"))\n",
    "flag = False\n",
    "\n",
    "if num == 1:\n",
    "    print(\"This is not a prime number\")\n",
    "elif num > 1:\n",
    "    for i in range(2, num):\n",
    "        if (num%i) == 0:\n",
    "            flag = True\n",
    "            break\n",
    "    if flag:\n",
    "        print(num, \"This is not a prime number\")\n",
    "    else:\n",
    "        print(num, \"This is a prime number\")"
   ]
  },
  {
   "cell_type": "code",
   "execution_count": 67,
   "id": "2e3cbe2e",
   "metadata": {},
   "outputs": [
    {
     "name": "stdout",
     "output_type": "stream",
     "text": [
      "Enter the n value: 4\n",
      "1\n",
      "4\n",
      "9\n"
     ]
    }
   ],
   "source": [
    "#12) Write a Python program that prints the square of all numbers from 1 to n.\n",
    "n = int(float(input(\"Enter the n value: \")))\n",
    "a = range(1, n)\n",
    "for i in a:\n",
    "    print(i**2)"
   ]
  },
  {
   "cell_type": "code",
   "execution_count": 70,
   "id": "0def8ffa",
   "metadata": {},
   "outputs": [
    {
     "name": "stdout",
     "output_type": "stream",
     "text": [
      "Enter your n value: 60\n",
      "5\n",
      "10\n",
      "15\n",
      "20\n",
      "25\n",
      "30\n",
      "35\n",
      "40\n",
      "45\n",
      "50\n",
      "55\n"
     ]
    }
   ],
   "source": [
    "#13) Write a Python program that prints all numbers divisible by 5 from 1 to n.\n",
    "n = int(float(input(\"Enter the n value: \")))\n",
    "a = range(1,n)\n",
    "for i in a:\n",
    "    if i%5 == 0:\n",
    "        print(i)"
   ]
  },
  {
   "cell_type": "code",
   "execution_count": 73,
   "id": "5080e1fd",
   "metadata": {},
   "outputs": [
    {
     "name": "stdout",
     "output_type": "stream",
     "text": [
      "Enter your values: 4\n",
      "\n",
      "Enter the numbers: 10 15 17 33\n",
      "The even number list is [10]\n"
     ]
    }
   ],
   "source": [
    "#14) Write a Python program that takes a list of numbers as input and prints a new list with only the even numbers.\n",
    "n = int(input(\"Enter your values: \"))\n",
    "a = list(map(int,input(\"\\nEnter the numbers: \").strip().split()))[:n]\n",
    "lst = []\n",
    "for i in a:\n",
    "    if i%2 == 0:\n",
    "        lst.append(i)\n",
    "        print(\"The even number list is\", lst)"
   ]
  },
  {
   "cell_type": "code",
   "execution_count": 43,
   "id": "e96c9d70",
   "metadata": {},
   "outputs": [
    {
     "name": "stdout",
     "output_type": "stream",
     "text": [
      "Enter the upper value: 97\n",
      "The prime number between the range: 2\n",
      "The prime number between the range: 3\n",
      "The prime number between the range: 5\n",
      "The prime number between the range: 7\n",
      "The prime number between the range: 11\n",
      "The prime number between the range: 13\n",
      "The prime number between the range: 17\n",
      "The prime number between the range: 19\n",
      "The prime number between the range: 23\n",
      "The prime number between the range: 29\n",
      "The prime number between the range: 31\n",
      "The prime number between the range: 37\n",
      "The prime number between the range: 41\n",
      "The prime number between the range: 43\n",
      "The prime number between the range: 47\n",
      "The prime number between the range: 53\n",
      "The prime number between the range: 59\n",
      "The prime number between the range: 61\n",
      "The prime number between the range: 67\n",
      "The prime number between the range: 71\n",
      "The prime number between the range: 73\n",
      "The prime number between the range: 79\n",
      "The prime number between the range: 83\n",
      "The prime number between the range: 89\n"
     ]
    }
   ],
   "source": [
    "# 15) Write a Python program to print all prime numbers between 1 and n\n",
    "lower_value = 1\n",
    "upper_value = int(input(\"Enter the upper value: \"))\n",
    "\n",
    "for number in range(lower_value, upper_value):\n",
    "    if number > 1:\n",
    "        for i in range(2, number):\n",
    "            if (number%i) == 0:\n",
    "                break\n",
    "        else:\n",
    "            print(\"The prime number between the range:\", number)"
   ]
  },
  {
   "cell_type": "code",
   "execution_count": 95,
   "id": "e24bb8a3",
   "metadata": {},
   "outputs": [
    {
     "name": "stdout",
     "output_type": "stream",
     "text": [
      "4\n",
      "3.5\n"
     ]
    }
   ],
   "source": [
    "#16) Write a Python program to calculate the average of numbers in a given list.\n",
    "a = [2,3,4,5]\n",
    "Avg = sum(a)/len(a)\n",
    "print(round(Avg))\n",
    "print(Sum)"
   ]
  },
  {
   "cell_type": "code",
   "execution_count": 72,
   "id": "e1c4de10",
   "metadata": {},
   "outputs": [
    {
     "name": "stdout",
     "output_type": "stream",
     "text": [
      "Enter your values: 3\n",
      "\n",
      "Enter the numbers: 11 12 13 \n",
      "\n",
      "List is-  [11, 12, 13]\n",
      "The final total is: 12\n"
     ]
    }
   ],
   "source": [
    "#17) Write a Python program to calculate the sum of all even numbers from 1 to n.\n",
    "n = int(input(\"Enter your values: \"))\n",
    "a = list(map(int,input(\"\\nEnter the numbers: \").strip().split()))[:n]\n",
    "lst = []\n",
    "print(\"\\nList is- \", a)\n",
    "\n",
    "for i in a:\n",
    "    if i%2 == 0:\n",
    "        lst.append(i)\n",
    "        total = sum(lst)\n",
    "        print(f\"The final total is: {total}\")"
   ]
  },
  {
   "cell_type": "code",
   "execution_count": 27,
   "id": "61396f15",
   "metadata": {},
   "outputs": [
    {
     "name": "stdout",
     "output_type": "stream",
     "text": [
      "Enter your age: 33\n",
      "The person is Adult\n"
     ]
    }
   ],
   "source": [
    "#18) Write a Python program that asks for the user's age and prints whether the user is a teenager, adult, or senior citizen.\n",
    "num = int(input(\"Enter your age: \"))    #senior citizen - 62 or older, adult= 18, teenager = 13 to 17\n",
    "if num == 18 or num<=62:\n",
    "    print(\"The person is Adult\")\n",
    "elif num >= 62:\n",
    "    print(\"The person is Senior Citizen\")\n",
    "elif num >= 13 and num <= 17:\n",
    "    print(\"The person is Teenager\")"
   ]
  },
  {
   "cell_type": "code",
   "execution_count": 28,
   "id": "c1f203ec",
   "metadata": {},
   "outputs": [
    {
     "name": "stdout",
     "output_type": "stream",
     "text": [
      "Enter the month: 4\n",
      "The season is Spring\n"
     ]
    }
   ],
   "source": [
    "#19) Write a Python program that asks the user to input a month (number) and prints the corresponding season.\n",
    "month = int(input(\"Enter the month: \"))    #senior citizen - 62 or older, adult= 18, teenager = 13 to 17\n",
    "if month == 12 or month == 1 or month == 2:\n",
    "    print(\"The season is Winter\")\n",
    "elif month == 3 or month == 4 or month == 5:\n",
    "    print(\"The season is Spring\")\n",
    "elif month == 6 or month == 7 or month == 8:\n",
    "    print(\"The season is Summer\")\n",
    "elif month == 9 or month == 10 or month == 11:\n",
    "    print(\"The season is Fall\")"
   ]
  },
  {
   "cell_type": "code",
   "execution_count": 160,
   "id": "bfea3897",
   "metadata": {},
   "outputs": [
    {
     "name": "stdout",
     "output_type": "stream",
     "text": [
      "         * \n",
      "        * * \n",
      "       * * * \n",
      "      * * * * \n",
      "     * * * * * \n",
      "    * * * * * * \n",
      "   * * * * * * * \n",
      "  * * * * * * * * \n",
      " * * * * * * * * * \n",
      "* * * * * * * * * * \n"
     ]
    }
   ],
   "source": [
    "#20) Write a Python program to print a pattern of asterisks in the shape of a pyramid using for loops.\n",
    "rows = 10\n",
    "for i in range(rows):\n",
    "    for j in range(rows-i-1):\n",
    "        print(\" \", end = \"\")\n",
    "    for j in range(i+1):\n",
    "        print(\"*\", end=\" \")\n",
    "    print(\"\")"
   ]
  }
 ],
 "metadata": {
  "kernelspec": {
   "display_name": "Python 3 (ipykernel)",
   "language": "python",
   "name": "python3"
  },
  "language_info": {
   "codemirror_mode": {
    "name": "ipython",
    "version": 3
   },
   "file_extension": ".py",
   "mimetype": "text/x-python",
   "name": "python",
   "nbconvert_exporter": "python",
   "pygments_lexer": "ipython3",
   "version": "3.9.12"
  }
 },
 "nbformat": 4,
 "nbformat_minor": 5
}
