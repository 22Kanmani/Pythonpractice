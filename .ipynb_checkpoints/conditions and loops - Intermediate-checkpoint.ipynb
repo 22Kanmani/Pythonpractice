{
 "cells": [
  {
   "cell_type": "code",
   "execution_count": 9,
   "id": "ef01bd0f",
   "metadata": {},
   "outputs": [
    {
     "name": "stdout",
     "output_type": "stream",
     "text": [
      "Enter the n value: 9\n",
      "1 2 3 5 8 13 21 "
     ]
    }
   ],
   "source": [
    "#1) Write a Python program that generates a Fibonacci series up to n.\n",
    "n = int(input(\"Enter the n value: \"))\n",
    "a = 0\n",
    "b = 1\n",
    "if n <=0:\n",
    "    print(\"The number is\", a)\n",
    "else:\n",
    "    for x in range(2,n):\n",
    "        c = a + b\n",
    "        print(c, end= \" \")\n",
    "        a = b\n",
    "        b = c"
   ]
  },
  {
   "cell_type": "code",
   "execution_count": 2,
   "id": "c4a93d88",
   "metadata": {},
   "outputs": [
    {
     "name": "stdout",
     "output_type": "stream",
     "text": [
      "Enter your m value: 1\n",
      "Enter your n value: 9\n",
      "Is a prime number\n",
      "2\n",
      "Is a prime number\n",
      "3\n",
      "Not a prime number\n",
      "4\n",
      "Not a prime number\n",
      "5\n",
      "Not a prime number\n",
      "6\n",
      "Not a prime number\n",
      "7\n",
      "Not a prime number\n",
      "8\n",
      "Not a prime number\n",
      "9\n"
     ]
    }
   ],
   "source": [
    "#2) Write a Python program that prints all prime numbers between m and n.\n",
    "m = int(input(\"Enter your m value: \"))\n",
    "n = int(input(\"Enter your n value: \"))\n",
    "flag = False\n",
    "\n",
    "for num in range(m, n+1):\n",
    "    if num > 1:\n",
    "        for i in range(2,num):\n",
    "            if(num%i) == 0:\n",
    "                flag = True\n",
    "                break\n",
    "        if flag:\n",
    "            print(\"Not a prime number\")\n",
    "            print(num)\n",
    "        else:\n",
    "            print(\"Is a prime number\")\n",
    "            print(num)\n"
   ]
  },
  {
   "cell_type": "code",
   "execution_count": 5,
   "id": "1b4a2d8e",
   "metadata": {},
   "outputs": [
    {
     "name": "stdout",
     "output_type": "stream",
     "text": [
      "Enter m value: 11\n",
      "Enter n value: 15\n",
      "12\n"
     ]
    }
   ],
   "source": [
    "#3)Write a Python program to print all numbers between m and n that are divisible by both 3 and 5.\n",
    "m = int(input(\"Enter m value: \"))\n",
    "n = int(input(\"Enter n value: \"))\n",
    "for i in range(m,n):\n",
    "    if (i%3 == 0) or (i%5 == 0):\n",
    "        print(i)"
   ]
  },
  {
   "cell_type": "code",
   "execution_count": 29,
   "id": "e037cb4b",
   "metadata": {},
   "outputs": [
    {
     "name": "stdout",
     "output_type": "stream",
     "text": [
      "90\n"
     ]
    }
   ],
   "source": [
    "#5) Write a Python program to find the second largest number in a list.\n",
    "a = [1,90, 100, 75, 28]\n",
    "a.sort()\n",
    "sort_value = a[-2]\n",
    "print(sort_value)"
   ]
  },
  {
   "cell_type": "code",
   "execution_count": 71,
   "id": "dff4c977",
   "metadata": {},
   "outputs": [
    {
     "name": "stdout",
     "output_type": "stream",
     "text": [
      "Count of vowels in the list 4\n"
     ]
    }
   ],
   "source": [
    "#6) Write a Python program to find the number of vowels in a string.\n",
    "a_str = \"condition\"\n",
    "a_lst = ['a', 'e', 'i', 'o', 'u', 'A', 'E', 'I', 'O', 'U']\n",
    "count = 0\n",
    "\n",
    "for character in a_str:\n",
    "    if character in a_lst:\n",
    "        count+=1\n",
    "print(\"Count of vowels in the list\", count)"
   ]
  },
  {
   "cell_type": "code",
   "execution_count": 76,
   "id": "b5f8c77e",
   "metadata": {},
   "outputs": [
    {
     "name": "stdout",
     "output_type": "stream",
     "text": [
      "The common elements in two lists are:\n",
      "Toy\n",
      "off\n"
     ]
    }
   ],
   "source": [
    "#8) Write a Python program that finds the common elements in two lists.\n",
    "a_lst = ['Toy', 2, 'find', 8, 'off']\n",
    "b_lst = ['Temp', 'Toy', 'off', 'number']\n",
    "print(\"The common elements in two lists are:\")\n",
    "for i in a_lst:\n",
    "    for j in b_lst:\n",
    "        if i == j:\n",
    "            print(i)"
   ]
  },
  {
   "cell_type": "code",
   "execution_count": 81,
   "id": "c4a3d474",
   "metadata": {},
   "outputs": [
    {
     "name": "stdout",
     "output_type": "stream",
     "text": [
      "[2, 10, 23, 50, 100]\n"
     ]
    }
   ],
   "source": [
    "#9) Write a Python program that sorts a list of numbers in ascending order.\n",
    "a = [10, 100, 50, 23, 2]\n",
    "a.sort()\n",
    "print(a)"
   ]
  },
  {
   "cell_type": "code",
   "execution_count": 95,
   "id": "816d0b18",
   "metadata": {},
   "outputs": [
    {
     "name": "stdout",
     "output_type": "stream",
     "text": [
      "Upper case letters are: C\n",
      "Lower case letters are: o\n",
      "Lower case letters are: n\n",
      "Lower case letters are: d\n",
      "Lower case letters are: i\n",
      "Lower case letters are: t\n",
      "Lower case letters are: i\n",
      "Lower case letters are: o\n",
      "Lower case letters are: n\n",
      "Lower case letters are:  \n",
      "Upper case letters are: D\n",
      "Upper case letters are: O\n",
      "Upper case letters are: N\n",
      "Upper case letters are: E\n"
     ]
    }
   ],
   "source": [
    "#13) Write a Python program that accepts a string and prints the number of uppercase letters and lowercase letters.\n",
    "a_str = \"Condition DONE\"\n",
    "a_lower = a_str.lower()\n",
    "a_upper = a_str.upper()\n",
    "for i in a_str:\n",
    "     if i in a_lower:\n",
    "            print(\"Lower case letters are:\", i)\n",
    "     elif i in a_upper:\n",
    "        print(\"Upper case letters are:\", i)"
   ]
  },
  {
   "cell_type": "code",
   "execution_count": 98,
   "id": "e64854fc",
   "metadata": {},
   "outputs": [
    {
     "name": "stdout",
     "output_type": "stream",
     "text": [
      "Enter the number: 4\n",
      "\n",
      "Enter the numbers: 100 23 45 1\n",
      "1\n"
     ]
    }
   ],
   "source": [
    "#17) Write a Python program that reads a list of numbers from the user and prints the smallest number in the list.\n",
    "n = int(input(\"Enter the number: \"))\n",
    "a_value = list(map(int,input(\"\\nEnter the numbers: \").strip().split()))[:n]\n",
    "a_value.sort()\n",
    "print(a_value[0])"
   ]
  },
  {
   "cell_type": "code",
   "execution_count": 10,
   "id": "fc999892",
   "metadata": {},
   "outputs": [
    {
     "name": "stdout",
     "output_type": "stream",
     "text": [
      "The multiplication of table 1: 1\n",
      "The multiplication of table 1: 2\n",
      "The multiplication of table 1: 3\n",
      "The multiplication of table 1: 4\n",
      "The multiplication of table 1: 5\n",
      "The multiplication of table 1: 6\n",
      "The multiplication of table 1: 7\n",
      "The multiplication of table 1: 8\n",
      "The multiplication of table 1: 9\n",
      "The multiplication of table 1: 10\n",
      "The multiplication of table 2: 2\n",
      "The multiplication of table 2: 4\n",
      "The multiplication of table 2: 6\n",
      "The multiplication of table 2: 8\n",
      "The multiplication of table 2: 10\n",
      "The multiplication of table 2: 12\n",
      "The multiplication of table 2: 14\n",
      "The multiplication of table 2: 16\n",
      "The multiplication of table 2: 18\n",
      "The multiplication of table 2: 20\n",
      "The multiplication of table 3: 3\n",
      "The multiplication of table 3: 6\n",
      "The multiplication of table 3: 9\n",
      "The multiplication of table 3: 12\n",
      "The multiplication of table 3: 15\n",
      "The multiplication of table 3: 18\n",
      "The multiplication of table 3: 21\n",
      "The multiplication of table 3: 24\n",
      "The multiplication of table 3: 27\n",
      "The multiplication of table 3: 30\n",
      "The multiplication of table 4: 4\n",
      "The multiplication of table 4: 8\n",
      "The multiplication of table 4: 12\n",
      "The multiplication of table 4: 16\n",
      "The multiplication of table 4: 20\n",
      "The multiplication of table 4: 24\n",
      "The multiplication of table 4: 28\n",
      "The multiplication of table 4: 32\n",
      "The multiplication of table 4: 36\n",
      "The multiplication of table 4: 40\n",
      "The multiplication of table 5: 5\n",
      "The multiplication of table 5: 10\n",
      "The multiplication of table 5: 15\n",
      "The multiplication of table 5: 20\n",
      "The multiplication of table 5: 25\n",
      "The multiplication of table 5: 30\n",
      "The multiplication of table 5: 35\n",
      "The multiplication of table 5: 40\n",
      "The multiplication of table 5: 45\n",
      "The multiplication of table 5: 50\n",
      "The multiplication of table 6: 6\n",
      "The multiplication of table 6: 12\n",
      "The multiplication of table 6: 18\n",
      "The multiplication of table 6: 24\n",
      "The multiplication of table 6: 30\n",
      "The multiplication of table 6: 36\n",
      "The multiplication of table 6: 42\n",
      "The multiplication of table 6: 48\n",
      "The multiplication of table 6: 54\n",
      "The multiplication of table 6: 60\n",
      "The multiplication of table 7: 7\n",
      "The multiplication of table 7: 14\n",
      "The multiplication of table 7: 21\n",
      "The multiplication of table 7: 28\n",
      "The multiplication of table 7: 35\n",
      "The multiplication of table 7: 42\n",
      "The multiplication of table 7: 49\n",
      "The multiplication of table 7: 56\n",
      "The multiplication of table 7: 63\n",
      "The multiplication of table 7: 70\n",
      "The multiplication of table 8: 8\n",
      "The multiplication of table 8: 16\n",
      "The multiplication of table 8: 24\n",
      "The multiplication of table 8: 32\n",
      "The multiplication of table 8: 40\n",
      "The multiplication of table 8: 48\n",
      "The multiplication of table 8: 56\n",
      "The multiplication of table 8: 64\n",
      "The multiplication of table 8: 72\n",
      "The multiplication of table 8: 80\n",
      "The multiplication of table 9: 9\n",
      "The multiplication of table 9: 18\n",
      "The multiplication of table 9: 27\n",
      "The multiplication of table 9: 36\n",
      "The multiplication of table 9: 45\n",
      "The multiplication of table 9: 54\n",
      "The multiplication of table 9: 63\n",
      "The multiplication of table 9: 72\n",
      "The multiplication of table 9: 81\n",
      "The multiplication of table 9: 90\n",
      "The multiplication of table 10: 10\n",
      "The multiplication of table 10: 20\n",
      "The multiplication of table 10: 30\n",
      "The multiplication of table 10: 40\n",
      "The multiplication of table 10: 50\n",
      "The multiplication of table 10: 60\n",
      "The multiplication of table 10: 70\n",
      "The multiplication of table 10: 80\n",
      "The multiplication of table 10: 90\n",
      "The multiplication of table 10: 100\n"
     ]
    }
   ],
   "source": [
    "#19) Write a Python program that prints the multiplication table of all numbers from 1 to 10.\n",
    "for i in range(1,10+1):\n",
    "    for j in range(1,10+1):\n",
    "        print(f\"The multiplication of table {i}:\", i*j)"
   ]
  },
  {
   "cell_type": "code",
   "execution_count": 31,
   "id": "8fde3848",
   "metadata": {},
   "outputs": [
    {
     "name": "stdout",
     "output_type": "stream",
     "text": [
      "Enter m value: 11\n",
      "Enter n value: 20\n",
      "The numbers that are not divisible by 3\n",
      "11\n",
      "13\n",
      "14\n",
      "16\n",
      "17\n",
      "19\n"
     ]
    }
   ],
   "source": [
    "#20) Write a Python program that prints all numbers between m and n that are not divisible by 3.\n",
    "m = int(input(\"Enter m value: \"))\n",
    "n = int(input(\"Enter n value: \"))\n",
    "print(\"The numbers that are not divisible by 3\")\n",
    "for i in range(m,n):\n",
    "    if i%3 != 0:\n",
    "        print(i)"
   ]
  }
 ],
 "metadata": {
  "kernelspec": {
   "display_name": "Python 3 (ipykernel)",
   "language": "python",
   "name": "python3"
  },
  "language_info": {
   "codemirror_mode": {
    "name": "ipython",
    "version": 3
   },
   "file_extension": ".py",
   "mimetype": "text/x-python",
   "name": "python",
   "nbconvert_exporter": "python",
   "pygments_lexer": "ipython3",
   "version": "3.9.12"
  }
 },
 "nbformat": 4,
 "nbformat_minor": 5
}
